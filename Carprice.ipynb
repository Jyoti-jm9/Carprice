{
  "nbformat": 4,
  "nbformat_minor": 0,
  "metadata": {
    "colab": {
      "provenance": [],
      "authorship_tag": "ABX9TyOc/fT/AicW3JUNGgflRGbl",
      "include_colab_link": true
    },
    "kernelspec": {
      "name": "python3",
      "display_name": "Python 3"
    },
    "language_info": {
      "name": "python"
    }
  },
  "cells": [
    {
      "cell_type": "markdown",
      "metadata": {
        "id": "view-in-github",
        "colab_type": "text"
      },
      "source": [
        "<a href=\"https://colab.research.google.com/github/Jyoti-jm9/Carprice/blob/main/Carprice.ipynb\" target=\"_parent\"><img src=\"https://colab.research.google.com/assets/colab-badge.svg\" alt=\"Open In Colab\"/></a>"
      ]
    },
    {
      "cell_type": "code",
      "execution_count": 5,
      "metadata": {
        "colab": {
          "base_uri": "https://localhost:8080/"
        },
        "id": "WUcQTN1wgRJU",
        "outputId": "78e00c56-8cd5-4421-9985-e201d048394e"
      },
      "outputs": [
        {
          "output_type": "stream",
          "name": "stdout",
          "text": [
            "  Car_Name  Year  Selling_Price  Present_Price  Kms_Driven Fuel_Type  \\\n",
            "0     ritz  2014           3.35           5.59       27000    Petrol   \n",
            "1      sx4  2013           4.75           9.54       43000    Diesel   \n",
            "2     ciaz  2017           7.25           9.85        6900    Petrol   \n",
            "3  wagon r  2011           2.85           4.15        5200    Petrol   \n",
            "4    swift  2014           4.60           6.87       42450    Diesel   \n",
            "\n",
            "  Seller_Type Transmission  Owner  \n",
            "0      Dealer       Manual      0  \n",
            "1      Dealer       Manual      0  \n",
            "2      Dealer       Manual      0  \n",
            "3      Dealer       Manual      0  \n",
            "4      Dealer       Manual      0  \n",
            "<class 'pandas.core.frame.DataFrame'>\n",
            "RangeIndex: 301 entries, 0 to 300\n",
            "Data columns (total 9 columns):\n",
            " #   Column         Non-Null Count  Dtype  \n",
            "---  ------         --------------  -----  \n",
            " 0   Car_Name       301 non-null    object \n",
            " 1   Year           301 non-null    int64  \n",
            " 2   Selling_Price  301 non-null    float64\n",
            " 3   Present_Price  301 non-null    float64\n",
            " 4   Kms_Driven     301 non-null    int64  \n",
            " 5   Fuel_Type      301 non-null    object \n",
            " 6   Seller_Type    301 non-null    object \n",
            " 7   Transmission   301 non-null    object \n",
            " 8   Owner          301 non-null    int64  \n",
            "dtypes: float64(2), int64(3), object(4)\n",
            "memory usage: 21.3+ KB\n",
            "None\n",
            "              Year  Selling_Price  Present_Price     Kms_Driven       Owner\n",
            "count   301.000000     301.000000     301.000000     301.000000  301.000000\n",
            "mean   2013.627907       4.661296       7.628472   36947.205980    0.043189\n",
            "std       2.891554       5.082812       8.644115   38886.883882    0.247915\n",
            "min    2003.000000       0.100000       0.320000     500.000000    0.000000\n",
            "25%    2012.000000       0.900000       1.200000   15000.000000    0.000000\n",
            "50%    2014.000000       3.600000       6.400000   32000.000000    0.000000\n",
            "75%    2016.000000       6.000000       9.900000   48767.000000    0.000000\n",
            "max    2018.000000      35.000000      92.600000  500000.000000    3.000000\n"
          ]
        }
      ],
      "source": [
        "#Loading and explore Data\n",
        "import pandas as pd\n",
        "\n",
        "# Load your CSV file\n",
        "file_path = '/content/car data.csv'\n",
        "data = pd.read_csv(file_path)\n",
        "\n",
        "# Display the first few rows and summary information\n",
        "print(data.head())\n",
        "print(data.info())\n",
        "print(data.describe())\n"
      ]
    },
    {
      "cell_type": "code",
      "source": [
        "#preprocessing\n",
        "from sklearn.model_selection import train_test_split\n",
        "\n",
        "# Identify target column (e.g., 'Price') and features\n",
        "target = 'Selling_Price'\n",
        "X = data.drop(columns=[target])\n",
        "y = data[target]\n",
        "\n",
        "# Convert categorical data to numerical, if needed\n",
        "X = pd.get_dummies(X, drop_first=True)\n",
        "\n",
        "# Split into training and testing sets\n",
        "X_train, X_test, y_train, y_test = train_test_split(X, y, test_size=0.2, random_state=42)\n"
      ],
      "metadata": {
        "id": "RP3qXzs7hBWp"
      },
      "execution_count": 6,
      "outputs": []
    }
  ]
}